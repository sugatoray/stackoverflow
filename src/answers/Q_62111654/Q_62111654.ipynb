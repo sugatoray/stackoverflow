{
  "nbformat": 4,
  "nbformat_minor": 0,
  "metadata": {
    "colab": {
      "name": "Q_62111654.ipynb",
      "provenance": [],
      "collapsed_sections": [],
      "toc_visible": true,
      "authorship_tag": "ABX9TyM4uk7PcpUpeo80YoVJ8Xqr",
      "include_colab_link": true
    },
    "kernelspec": {
      "name": "python3",
      "display_name": "Python 3"
    },
    "widgets": {
      "application/vnd.jupyter.widget-state+json": {
        "02ba32805c1e47948ea348519d241a3f": {
          "model_module": "@jupyter-widgets/controls",
          "model_name": "HBoxModel",
          "state": {
            "_view_name": "HBoxView",
            "_dom_classes": [],
            "_model_name": "HBoxModel",
            "_view_module": "@jupyter-widgets/controls",
            "_model_module_version": "1.5.0",
            "_view_count": null,
            "_view_module_version": "1.5.0",
            "box_style": "",
            "layout": "IPY_MODEL_66ae4d62c21447d38e974482288e2de5",
            "_model_module": "@jupyter-widgets/controls",
            "children": [
              "IPY_MODEL_dedb7678306244e0be54780dc76f58d5",
              "IPY_MODEL_bfcef4e320d441cea282e1441a627fdd"
            ]
          }
        },
        "66ae4d62c21447d38e974482288e2de5": {
          "model_module": "@jupyter-widgets/base",
          "model_name": "LayoutModel",
          "state": {
            "_view_name": "LayoutView",
            "grid_template_rows": null,
            "right": null,
            "justify_content": null,
            "_view_module": "@jupyter-widgets/base",
            "overflow": null,
            "_model_module_version": "1.2.0",
            "_view_count": null,
            "flex_flow": null,
            "width": null,
            "min_width": null,
            "border": null,
            "align_items": null,
            "bottom": null,
            "_model_module": "@jupyter-widgets/base",
            "top": null,
            "grid_column": null,
            "overflow_y": null,
            "overflow_x": null,
            "grid_auto_flow": null,
            "grid_area": null,
            "grid_template_columns": null,
            "flex": null,
            "_model_name": "LayoutModel",
            "justify_items": null,
            "grid_row": null,
            "max_height": null,
            "align_content": null,
            "visibility": null,
            "align_self": null,
            "height": null,
            "min_height": null,
            "padding": null,
            "grid_auto_rows": null,
            "grid_gap": null,
            "max_width": null,
            "order": null,
            "_view_module_version": "1.2.0",
            "grid_template_areas": null,
            "object_position": null,
            "object_fit": null,
            "grid_auto_columns": null,
            "margin": null,
            "display": null,
            "left": null
          }
        },
        "dedb7678306244e0be54780dc76f58d5": {
          "model_module": "@jupyter-widgets/controls",
          "model_name": "FloatProgressModel",
          "state": {
            "_view_name": "ProgressView",
            "style": "IPY_MODEL_5140235e2e114373b695b828b001d006",
            "_dom_classes": [],
            "description": "Scripts Processed: 100%",
            "_model_name": "FloatProgressModel",
            "bar_style": "success",
            "max": 1,
            "_view_module": "@jupyter-widgets/controls",
            "_model_module_version": "1.5.0",
            "value": 1,
            "_view_count": null,
            "_view_module_version": "1.5.0",
            "orientation": "horizontal",
            "min": 0,
            "description_tooltip": null,
            "_model_module": "@jupyter-widgets/controls",
            "layout": "IPY_MODEL_5cf8e982112b44b5b02766fca574e5ed"
          }
        },
        "bfcef4e320d441cea282e1441a627fdd": {
          "model_module": "@jupyter-widgets/controls",
          "model_name": "HTMLModel",
          "state": {
            "_view_name": "HTMLView",
            "style": "IPY_MODEL_95adc9979e4a4b8eaaa4c0cbc5c755cb",
            "_dom_classes": [],
            "description": "",
            "_model_name": "HTMLModel",
            "placeholder": "​",
            "_view_module": "@jupyter-widgets/controls",
            "_model_module_version": "1.5.0",
            "value": " 1/1 [11:26&lt;00:00, 686.09s/it]",
            "_view_count": null,
            "_view_module_version": "1.5.0",
            "description_tooltip": null,
            "_model_module": "@jupyter-widgets/controls",
            "layout": "IPY_MODEL_81a2328723214ed79047a2b901958425"
          }
        },
        "5140235e2e114373b695b828b001d006": {
          "model_module": "@jupyter-widgets/controls",
          "model_name": "ProgressStyleModel",
          "state": {
            "_view_name": "StyleView",
            "_model_name": "ProgressStyleModel",
            "description_width": "initial",
            "_view_module": "@jupyter-widgets/base",
            "_model_module_version": "1.5.0",
            "_view_count": null,
            "_view_module_version": "1.2.0",
            "bar_color": null,
            "_model_module": "@jupyter-widgets/controls"
          }
        },
        "5cf8e982112b44b5b02766fca574e5ed": {
          "model_module": "@jupyter-widgets/base",
          "model_name": "LayoutModel",
          "state": {
            "_view_name": "LayoutView",
            "grid_template_rows": null,
            "right": null,
            "justify_content": null,
            "_view_module": "@jupyter-widgets/base",
            "overflow": null,
            "_model_module_version": "1.2.0",
            "_view_count": null,
            "flex_flow": null,
            "width": null,
            "min_width": null,
            "border": null,
            "align_items": null,
            "bottom": null,
            "_model_module": "@jupyter-widgets/base",
            "top": null,
            "grid_column": null,
            "overflow_y": null,
            "overflow_x": null,
            "grid_auto_flow": null,
            "grid_area": null,
            "grid_template_columns": null,
            "flex": null,
            "_model_name": "LayoutModel",
            "justify_items": null,
            "grid_row": null,
            "max_height": null,
            "align_content": null,
            "visibility": null,
            "align_self": null,
            "height": null,
            "min_height": null,
            "padding": null,
            "grid_auto_rows": null,
            "grid_gap": null,
            "max_width": null,
            "order": null,
            "_view_module_version": "1.2.0",
            "grid_template_areas": null,
            "object_position": null,
            "object_fit": null,
            "grid_auto_columns": null,
            "margin": null,
            "display": null,
            "left": null
          }
        },
        "95adc9979e4a4b8eaaa4c0cbc5c755cb": {
          "model_module": "@jupyter-widgets/controls",
          "model_name": "DescriptionStyleModel",
          "state": {
            "_view_name": "StyleView",
            "_model_name": "DescriptionStyleModel",
            "description_width": "",
            "_view_module": "@jupyter-widgets/base",
            "_model_module_version": "1.5.0",
            "_view_count": null,
            "_view_module_version": "1.2.0",
            "_model_module": "@jupyter-widgets/controls"
          }
        },
        "81a2328723214ed79047a2b901958425": {
          "model_module": "@jupyter-widgets/base",
          "model_name": "LayoutModel",
          "state": {
            "_view_name": "LayoutView",
            "grid_template_rows": null,
            "right": null,
            "justify_content": null,
            "_view_module": "@jupyter-widgets/base",
            "overflow": null,
            "_model_module_version": "1.2.0",
            "_view_count": null,
            "flex_flow": null,
            "width": null,
            "min_width": null,
            "border": null,
            "align_items": null,
            "bottom": null,
            "_model_module": "@jupyter-widgets/base",
            "top": null,
            "grid_column": null,
            "overflow_y": null,
            "overflow_x": null,
            "grid_auto_flow": null,
            "grid_area": null,
            "grid_template_columns": null,
            "flex": null,
            "_model_name": "LayoutModel",
            "justify_items": null,
            "grid_row": null,
            "max_height": null,
            "align_content": null,
            "visibility": null,
            "align_self": null,
            "height": null,
            "min_height": null,
            "padding": null,
            "grid_auto_rows": null,
            "grid_gap": null,
            "max_width": null,
            "order": null,
            "_view_module_version": "1.2.0",
            "grid_template_areas": null,
            "object_position": null,
            "object_fit": null,
            "grid_auto_columns": null,
            "margin": null,
            "display": null,
            "left": null
          }
        },
        "886611f325ee4e639c90c978debfc368": {
          "model_module": "@jupyter-widgets/controls",
          "model_name": "HBoxModel",
          "state": {
            "_view_name": "HBoxView",
            "_dom_classes": [],
            "_model_name": "HBoxModel",
            "_view_module": "@jupyter-widgets/controls",
            "_model_module_version": "1.5.0",
            "_view_count": null,
            "_view_module_version": "1.5.0",
            "box_style": "",
            "layout": "IPY_MODEL_76870587f0e046fdbe9caa50408c3a49",
            "_model_module": "@jupyter-widgets/controls",
            "children": [
              "IPY_MODEL_96b7ee95f5b04089b0d402338ae6aab1",
              "IPY_MODEL_5c7f9e604c664cdda6753f4a70438a13"
            ]
          }
        },
        "76870587f0e046fdbe9caa50408c3a49": {
          "model_module": "@jupyter-widgets/base",
          "model_name": "LayoutModel",
          "state": {
            "_view_name": "LayoutView",
            "grid_template_rows": null,
            "right": null,
            "justify_content": null,
            "_view_module": "@jupyter-widgets/base",
            "overflow": null,
            "_model_module_version": "1.2.0",
            "_view_count": null,
            "flex_flow": null,
            "width": null,
            "min_width": null,
            "border": null,
            "align_items": null,
            "bottom": null,
            "_model_module": "@jupyter-widgets/base",
            "top": null,
            "grid_column": null,
            "overflow_y": null,
            "overflow_x": null,
            "grid_auto_flow": null,
            "grid_area": null,
            "grid_template_columns": null,
            "flex": null,
            "_model_name": "LayoutModel",
            "justify_items": null,
            "grid_row": null,
            "max_height": null,
            "align_content": null,
            "visibility": null,
            "align_self": null,
            "height": null,
            "min_height": null,
            "padding": null,
            "grid_auto_rows": null,
            "grid_gap": null,
            "max_width": null,
            "order": null,
            "_view_module_version": "1.2.0",
            "grid_template_areas": null,
            "object_position": null,
            "object_fit": null,
            "grid_auto_columns": null,
            "margin": null,
            "display": null,
            "left": null
          }
        },
        "96b7ee95f5b04089b0d402338ae6aab1": {
          "model_module": "@jupyter-widgets/controls",
          "model_name": "FloatProgressModel",
          "state": {
            "_view_name": "ProgressView",
            "style": "IPY_MODEL_55588ca6bbdb4c55bb0b89910337cf1b",
            "_dom_classes": [],
            "description": "Scripts Processed: 100%",
            "_model_name": "FloatProgressModel",
            "bar_style": "success",
            "max": 10,
            "_view_module": "@jupyter-widgets/controls",
            "_model_module_version": "1.5.0",
            "value": 10,
            "_view_count": null,
            "_view_module_version": "1.5.0",
            "orientation": "horizontal",
            "min": 0,
            "description_tooltip": null,
            "_model_module": "@jupyter-widgets/controls",
            "layout": "IPY_MODEL_86e96cd41eb749f6aee4a12c28925d06"
          }
        },
        "5c7f9e604c664cdda6753f4a70438a13": {
          "model_module": "@jupyter-widgets/controls",
          "model_name": "HTMLModel",
          "state": {
            "_view_name": "HTMLView",
            "style": "IPY_MODEL_d29caf6c82984c80bf0d856e55d0130f",
            "_dom_classes": [],
            "description": "",
            "_model_name": "HTMLModel",
            "placeholder": "​",
            "_view_module": "@jupyter-widgets/controls",
            "_model_module_version": "1.5.0",
            "value": " 10/10 [00:00&lt;00:00, 60.52it/s]",
            "_view_count": null,
            "_view_module_version": "1.5.0",
            "description_tooltip": null,
            "_model_module": "@jupyter-widgets/controls",
            "layout": "IPY_MODEL_fc6df64a179047fba264e5c299c352ec"
          }
        },
        "55588ca6bbdb4c55bb0b89910337cf1b": {
          "model_module": "@jupyter-widgets/controls",
          "model_name": "ProgressStyleModel",
          "state": {
            "_view_name": "StyleView",
            "_model_name": "ProgressStyleModel",
            "description_width": "initial",
            "_view_module": "@jupyter-widgets/base",
            "_model_module_version": "1.5.0",
            "_view_count": null,
            "_view_module_version": "1.2.0",
            "bar_color": null,
            "_model_module": "@jupyter-widgets/controls"
          }
        },
        "86e96cd41eb749f6aee4a12c28925d06": {
          "model_module": "@jupyter-widgets/base",
          "model_name": "LayoutModel",
          "state": {
            "_view_name": "LayoutView",
            "grid_template_rows": null,
            "right": null,
            "justify_content": null,
            "_view_module": "@jupyter-widgets/base",
            "overflow": null,
            "_model_module_version": "1.2.0",
            "_view_count": null,
            "flex_flow": null,
            "width": null,
            "min_width": null,
            "border": null,
            "align_items": null,
            "bottom": null,
            "_model_module": "@jupyter-widgets/base",
            "top": null,
            "grid_column": null,
            "overflow_y": null,
            "overflow_x": null,
            "grid_auto_flow": null,
            "grid_area": null,
            "grid_template_columns": null,
            "flex": null,
            "_model_name": "LayoutModel",
            "justify_items": null,
            "grid_row": null,
            "max_height": null,
            "align_content": null,
            "visibility": null,
            "align_self": null,
            "height": null,
            "min_height": null,
            "padding": null,
            "grid_auto_rows": null,
            "grid_gap": null,
            "max_width": null,
            "order": null,
            "_view_module_version": "1.2.0",
            "grid_template_areas": null,
            "object_position": null,
            "object_fit": null,
            "grid_auto_columns": null,
            "margin": null,
            "display": null,
            "left": null
          }
        },
        "d29caf6c82984c80bf0d856e55d0130f": {
          "model_module": "@jupyter-widgets/controls",
          "model_name": "DescriptionStyleModel",
          "state": {
            "_view_name": "StyleView",
            "_model_name": "DescriptionStyleModel",
            "description_width": "",
            "_view_module": "@jupyter-widgets/base",
            "_model_module_version": "1.5.0",
            "_view_count": null,
            "_view_module_version": "1.2.0",
            "_model_module": "@jupyter-widgets/controls"
          }
        },
        "fc6df64a179047fba264e5c299c352ec": {
          "model_module": "@jupyter-widgets/base",
          "model_name": "LayoutModel",
          "state": {
            "_view_name": "LayoutView",
            "grid_template_rows": null,
            "right": null,
            "justify_content": null,
            "_view_module": "@jupyter-widgets/base",
            "overflow": null,
            "_model_module_version": "1.2.0",
            "_view_count": null,
            "flex_flow": null,
            "width": null,
            "min_width": null,
            "border": null,
            "align_items": null,
            "bottom": null,
            "_model_module": "@jupyter-widgets/base",
            "top": null,
            "grid_column": null,
            "overflow_y": null,
            "overflow_x": null,
            "grid_auto_flow": null,
            "grid_area": null,
            "grid_template_columns": null,
            "flex": null,
            "_model_name": "LayoutModel",
            "justify_items": null,
            "grid_row": null,
            "max_height": null,
            "align_content": null,
            "visibility": null,
            "align_self": null,
            "height": null,
            "min_height": null,
            "padding": null,
            "grid_auto_rows": null,
            "grid_gap": null,
            "max_width": null,
            "order": null,
            "_view_module_version": "1.2.0",
            "grid_template_areas": null,
            "object_position": null,
            "object_fit": null,
            "grid_auto_columns": null,
            "margin": null,
            "display": null,
            "left": null
          }
        }
      }
    }
  },
  "cells": [
    {
      "cell_type": "markdown",
      "metadata": {
        "id": "view-in-github",
        "colab_type": "text"
      },
      "source": [
        "<a href=\"https://colab.research.google.com/github/sugatoray/stackoverflow/blob/master/src/answers/Q_62111654/Q_62111654.ipynb\" target=\"_parent\"><img src=\"https://colab.research.google.com/assets/colab-badge.svg\" alt=\"Open In Colab\"/></a>"
      ]
    },
    {
      "cell_type": "markdown",
      "metadata": {
        "id": "_Ya-NU1X6LVX",
        "colab_type": "text"
      },
      "source": [
        "# Q_62111654\n",
        "\n",
        "Stackoverflow (SO) question: _[How can I save the headers and values in Html `<script>` as a table in the csv file?][#q]_\n",
        "\n",
        "[#q]: https://stackoverflow.com/questions/62111654/how-can-i-save-the-headers-and-values-in-html-script-as-a-table-in-the-csv-fil\n",
        "\n",
        "The solution presented here is also available on [SO][#q] by me ([cypherx][#cypherx]).\n",
        "\n",
        "[![Stack Exchange reputation](https://img.shields.io/stackexchange/stackoverflow/r/8474894.svg?style=flat&logo=stackoverflow)][#cypherx]\n",
        "\n",
        "[#cypherx]: https://stackoverflow.com/users/8474894\n",
        "\n",
        "[![Open In Colab](https://colab.research.google.com/assets/colab-badge.svg)](https://colab.research.google.com/github/sugatoray/stackoverflow/blob/master/src/answers/Q_62111654/Q_62111654.ipynb)"
      ]
    },
    {
      "cell_type": "markdown",
      "metadata": {
        "id": "gYcyc5sI5R6T",
        "colab_type": "text"
      },
      "source": [
        "## Dummy Data"
      ]
    },
    {
      "cell_type": "code",
      "metadata": {
        "id": "VJBuSRN45UcG",
        "colab_type": "code",
        "colab": {}
      },
      "source": [
        "## Dummy Data\n",
        "s = \"\"\"\n",
        "<script language=\"JavaScript\"> var theHlp='/yardim/matris.asp';var theTitle = 'Piyasa Değeri';var theCaption='Cam (TL)';var lastmod = '';var h='<a class=hisselink href=../Hisse/HisseAnaliz.aspx?HNO=';var e='<a class=hisselink href=../endeks/endeksAnaliz.aspx?HNO=';var d='<center><font face=symbol size=1 color=#FF0000><b>ß</b></font></center>';var u='<center><font face=symbol size=1 color=#008000><b>İ</b></font></center>';var n='<center><font face=symbol size=1 color=#00A000><b>=</b></font></center>';var fr='<font color=#FF0000>';var fg='<font color=#008000>';var theFooter=new Array();var theCols = new Array();theCols[0] = new Array('Hisse',4,50);theCols[1] = new Array('2012.12',1,60);theCols[2] = new Array('2013.03',1,60);theCols[3] = new Array('2013.06',1,60);theCols[4] = new Array('2013.09',1,60);theCols[5] = new Array('2013.12',1,60);theCols[6] = new Array('2014.03',1,60);theCols[7] = new Array('2014.06',1,60);theCols[8] = new Array('2014.09',1,60);theCols[9] = new Array('2014.12',1,60);theCols[10] = new Array('2015.03',1,60);theCols[11] = new Array('2015.06',1,60);theCols[12] = new Array('2015.09',1,60);theCols[13] = new Array('2015.12',1,60);theCols[14] = new Array('2016.03',1,60);theCols[15] = new Array('2016.06',1,60);theCols[16] = new Array('2016.09',1,60);theCols[17] = new Array('2016.12',1,60);theCols[18] = new Array('2017.03',1,60);theCols[19] = new Array('2017.06',1,60);theCols[20] = new Array('2017.09',1,60);theCols[21] = new Array('2017.12',1,60);theCols[22] = new Array('2018.03',1,60);theCols[23] = new Array('2018.06',1,60);theCols[24] = new Array('2018.09',1,60);theCols[25] = new Array('2018.12',1,60);theCols[26] = new Array('2019.03',1,60);theCols[27] = new Array('2019.06',1,60);theCols[28] = new Array('2019.09',1,60);theCols[29] = new Array('2019.12',1,60);theCols[30] = new Array('2020.03',1,60);var theRows = new Array();\n",
        "theRows[0] = new Array ('<b>'+h+'30>ANA</B></a>','1,114,919,783.60','1,142,792,778.19','1,091,028,645.38','991,850,000.48','796,800,000.38','697,200,000.34','751,150,000.36','723,720,000.33','888,000,000.40','790,320,000.36','883,560,000.40','927,960,000.42','737,040,000.33','879,120,000.40','914,640,000.41','927,960,000.42','1,172,160,000.53','1,416,360,000.64','1,589,520,000.72','1,552,500,000.41','1,972,500,000.53','2,520,000,000.67','2,160,000,000.58','2,475,000,000.66','2,010,000,000.54','2,250,000,000.60','2,077,500,000.55','2,332,500,000.62','3,270,000,000.87','2,347,500,000.63');\n",
        "theRows[1] = new Array ('<b>'+h+'89>DEN</B></a>','55,200,000.00','55,920,000.00','45,960,000.00','42,600,000.00','35,760,000.00','39,600,000.00','40,200,000.00','47,700,000.00','50,460,000.00','45,300,000.00','41,760,000.00','59,340,000.00','66,600,000.00','97,020,000.00','81,060,000.00','69,300,000.00','79,800,000.00','68,400,000.00','66,900,000.00','66,960,000.00','71,220,000.00','71,520,000.00','71,880,000.00','60,600,000.00','69,120,000.00','62,640,000.00','57,180,000.00','89,850,000.00','125,100,000.00','85,350,000.00');\n",
        "theRows[2] = new Array ('<b>'+h+'269>SIS</B></a>','4,425,000,000.00','4,695,000,000.00','4,050,000,000.00','4,367,380,000.00','4,273,120,000.00','3,644,720,000.00','4,681,580,000.00','4,913,000,000.00','6,188,000,000.00','5,457,000,000.00','6,137,000,000.00','5,453,000,000.00','6,061,000,000.00','6,954,000,000.00','6,745,000,000.00','6,519,000,000.00','7,851,500,000.00','8,548,500,000.00','9,430,000,000.00','9,225,000,000.00','10,575,000,000.00','11,610,000,000.00','9,517,500,000.00','13,140,000,000.00','12,757,500,000.00','13,117,500,000.00','11,677,500,000.00','10,507,500,000.00','11,857,500,000.00','9,315,000,000.00');\n",
        "theRows[3] = new Array ('<b>'+h+'297>TRK</B></a>','1,692,579,200.00','1,983,924,800.00','1,831,315,200.00','1,704,000,000.00','1,803,400,000.00','1,498,100,000.00','1,803,400,000.00','1,884,450,000.00','2,542,160,000.00','2,180,050,000.00','2,069,200,000.00','1,682,600,000.00','1,619,950,000.00','1,852,650,000.00','2,040,600,000.00','2,315,700,000.00','2,641,200,000.00','2,938,800,000.00','3,599,100,000.00','4,101,900,000.00','5,220,600,000.00','5,808,200,000.00','4,689,500,000.00','5,375,000,000.00','3,787,500,000.00','4,150,000,000.00','3,662,500,000.00','3,712,500,000.00','4,375,000,000.00','3,587,500,000.00');\n",
        "var thetable=new mytable();thetable.tableWidth=650;thetable.shownum=false;thetable.controlaccess=true;thetable.visCols=new Array(true,true,true,true,true);thetable.initsort=new Array(0,-1);thetable.inittable();thetable.refreshTable();</script>\n",
        "\"\"\"\n",
        "\n",
        "## Make a dummy list of scripts\n",
        "scripts = [s for _ in range(10)]"
      ],
      "execution_count": 0,
      "outputs": []
    },
    {
      "cell_type": "markdown",
      "metadata": {
        "id": "V7ItzzNb5OTZ",
        "colab_type": "text"
      },
      "source": [
        "## Custome Function"
      ]
    },
    {
      "cell_type": "code",
      "metadata": {
        "id": "OIsb6ebN3xXv",
        "colab_type": "code",
        "colab": {}
      },
      "source": [
        "#pip install -U pandas\n",
        "#pip install tqdm\n",
        "import pandas as pd\n",
        "import re # regex\n",
        "import os\n",
        "from tqdm.notebook import tqdm\n",
        "# Use the following line if not using a jupyter notebook\n",
        "# from tqdm import tqdm\n",
        "\n",
        "def process_scripts(scripts, \n",
        "                    output_path='./output', \n",
        "                    save_to_csv: bool=False, \n",
        "                    verbose: int=0):\n",
        "    \"\"\"Process all scripts and return a list of dataframes and \n",
        "    optionally write each dataframe to a CSV file.\n",
        "\n",
        "    Parameters\n",
        "    ----------\n",
        "        scripts: list of scripts\n",
        "        output_path (str): output-folder-path for csv files\n",
        "        save_to_csv (bool):  default is False\n",
        "        verbose (int): prints output for verbose>0\n",
        "\n",
        "    Example\n",
        "    -------\n",
        "    OUTPUT_PATH = './output'\n",
        "    dfs = process_scripts(scripts, \n",
        "                          output_path = OUTPUT_PATH, \n",
        "                          save_to_csv = True, \n",
        "                          verbose = 0)\n",
        "\n",
        "    ## To clear the output dir-contents\n",
        "    #!rm -f $OUTPUT_PATH/*\n",
        "    \"\"\"\n",
        "    ## Define regex patterns and compile for speed\n",
        "    pat_header = re.compile(r\"theCols\\[\\d+\\] = new Array\\s*\\([\\'](\\d{4}\\.\\d{1,2})[\\'],\\d+,\\d+\\)\")\n",
        "    pat_line = re.compile(r\"theRows\\[\\d+\\] = new Array\\s*\\((.*)\\).*\")\n",
        "    pat_code = re.compile(\"([A-Z]{3})\")\n",
        "\n",
        "    # Calculate zfill-digits\n",
        "    zfill_digits = len(str(len(scripts)))\n",
        "    print(f'Total scripts: {len(scripts)}')\n",
        "\n",
        "    # Create output_path\n",
        "    if not os.path.exists(output_path):\n",
        "        os.makedirs(output_path)\n",
        "\n",
        "    # Define a list of dataframes:  \n",
        "    #   An accumulator of all scripts\n",
        "    dfs = []\n",
        "\n",
        "    ## If you do not have tqdm installed, uncomment the \n",
        "    #  next line and comment out the following line.\n",
        "    #for script_num, script in enumerate(scripts):\n",
        "    for script_num, script in enumerate(tqdm(scripts, desc='Scripts Processed')):\n",
        "        ## Extract: Headers, Rows\n",
        "        #    Rows : code (Name: single column), line-data (multi-column)\n",
        "        headers = script.strip().split('\\n', 0)[0]\n",
        "        headers = ['Name'] + re.findall(pat_header, headers)\n",
        "        lines = re.findall(pat_line, script)\n",
        "        codes = [re.findall(pat_code, line)[0] for line in lines]\n",
        "        # Clean data for each row\n",
        "        lines_data = dict()\n",
        "        for line, code in zip(lines, codes):\n",
        "            line_data = line.replace(\"','\", \"|\").split('|')\n",
        "            line_data[-1] = line_data[-1].replace(\"'\", \"\")\n",
        "            line_data[0] = code\n",
        "            lines_data.update({code: line_data.copy()})\n",
        "        if verbose>0:\n",
        "            print('{}: {}'.format(script_num, codes))\n",
        "        ## Load data into a pandas-dataframe\n",
        "        #  and write to csv.\n",
        "        df = pd.DataFrame(lines_data).T\n",
        "        df.columns = headers\n",
        "        dfs.append(df.copy()) # update list\n",
        "        # Write to CSV\n",
        "        if save_to_csv:\n",
        "            num_label = str(script_num).zfill(zfill_digits)\n",
        "            script_file_csv = f'Script_{num_label}.csv' \n",
        "            script_path = os.path.join(output_path, script_file_csv)   \n",
        "            df.to_csv(script_path, index=False)\n",
        "    return dfs"
      ],
      "execution_count": 0,
      "outputs": []
    },
    {
      "cell_type": "markdown",
      "metadata": {
        "id": "hgaaN1vX5BFe",
        "colab_type": "text"
      },
      "source": [
        "## Processing a single script"
      ]
    },
    {
      "cell_type": "code",
      "metadata": {
        "id": "_SWf_53Z4108",
        "colab_type": "code",
        "colab": {
          "base_uri": "https://localhost:8080/",
          "height": 213,
          "referenced_widgets": [
            "02ba32805c1e47948ea348519d241a3f",
            "66ae4d62c21447d38e974482288e2de5",
            "dedb7678306244e0be54780dc76f58d5",
            "bfcef4e320d441cea282e1441a627fdd",
            "5140235e2e114373b695b828b001d006",
            "5cf8e982112b44b5b02766fca574e5ed",
            "95adc9979e4a4b8eaaa4c0cbc5c755cb",
            "81a2328723214ed79047a2b901958425"
          ]
        },
        "outputId": "2af102ab-b99f-4c51-80c9-549382cee78d"
      },
      "source": [
        "## Define CSV file-output folder-path\n",
        "OUTPUT_PATH = './output'\n",
        "## Process scripts\n",
        "dfs = process_scripts(scripts = [s], \n",
        "                        output_path = OUTPUT_PATH, \n",
        "                        save_to_csv = False, \n",
        "                        verbose = 0)\n",
        "\n",
        "print(dfs[0].reset_index(drop=True))"
      ],
      "execution_count": 3,
      "outputs": [
        {
          "output_type": "stream",
          "text": [
            "Total scripts: 1\n"
          ],
          "name": "stdout"
        },
        {
          "output_type": "display_data",
          "data": {
            "application/vnd.jupyter.widget-view+json": {
              "model_id": "02ba32805c1e47948ea348519d241a3f",
              "version_minor": 0,
              "version_major": 2
            },
            "text/plain": [
              "HBox(children=(FloatProgress(value=0.0, description='Scripts Processed', max=1.0, style=ProgressStyle(descript…"
            ]
          },
          "metadata": {
            "tags": []
          }
        },
        {
          "output_type": "stream",
          "text": [
            "\n",
            "  Name           2012.12  ...            2019.12           2020.03\n",
            "0  ANA  1,114,919,783.60  ...   3,270,000,000.87  2,347,500,000.63\n",
            "1  DEN     55,200,000.00  ...     125,100,000.00     85,350,000.00\n",
            "2  SIS  4,425,000,000.00  ...  11,857,500,000.00  9,315,000,000.00\n",
            "3  TRK  1,692,579,200.00  ...   4,375,000,000.00  3,587,500,000.00\n",
            "\n",
            "[4 rows x 31 columns]\n"
          ],
          "name": "stdout"
        }
      ]
    },
    {
      "cell_type": "markdown",
      "metadata": {
        "id": "sjtBWX4H5Fk1",
        "colab_type": "text"
      },
      "source": [
        "## Processing all scripts\n",
        "\n",
        "To see the folders, click on the 📂 icon on the left pane. And then out could expand `output` folder to see its contents.\n",
        "\n",
        "[![output-folder-image][1]][1]\n",
        "\n",
        "[1]: https://i.stack.imgur.com/v0mzt.png"
      ]
    },
    {
      "cell_type": "code",
      "metadata": {
        "id": "CDgvWcJw5If2",
        "colab_type": "code",
        "colab": {
          "base_uri": "https://localhost:8080/",
          "height": 85,
          "referenced_widgets": [
            "886611f325ee4e639c90c978debfc368",
            "76870587f0e046fdbe9caa50408c3a49",
            "96b7ee95f5b04089b0d402338ae6aab1",
            "5c7f9e604c664cdda6753f4a70438a13",
            "55588ca6bbdb4c55bb0b89910337cf1b",
            "86e96cd41eb749f6aee4a12c28925d06",
            "d29caf6c82984c80bf0d856e55d0130f",
            "fc6df64a179047fba264e5c299c352ec"
          ]
        },
        "outputId": "39e87606-fabe-41b1-8c3e-155ac01735e4"
      },
      "source": [
        "## Define CSV file-output folder-path\n",
        "OUTPUT_PATH = './output'\n",
        "## Process scripts\n",
        "dfs = process_scripts(scripts, \n",
        "                        output_path = OUTPUT_PATH, \n",
        "                        save_to_csv = True, \n",
        "                        verbose = 0)\n",
        "\n",
        "## To clear the output dir-contents\n",
        "#!rm -f $OUTPUT_PATH/*"
      ],
      "execution_count": 4,
      "outputs": [
        {
          "output_type": "stream",
          "text": [
            "Total scripts: 10\n"
          ],
          "name": "stdout"
        },
        {
          "output_type": "display_data",
          "data": {
            "application/vnd.jupyter.widget-view+json": {
              "model_id": "886611f325ee4e639c90c978debfc368",
              "version_minor": 0,
              "version_major": 2
            },
            "text/plain": [
              "HBox(children=(FloatProgress(value=0.0, description='Scripts Processed', max=10.0, style=ProgressStyle(descrip…"
            ]
          },
          "metadata": {
            "tags": []
          }
        },
        {
          "output_type": "stream",
          "text": [
            "\n"
          ],
          "name": "stdout"
        }
      ]
    },
    {
      "cell_type": "code",
      "metadata": {
        "id": "v6NbiiqK8BhK",
        "colab_type": "code",
        "colab": {}
      },
      "source": [
        ""
      ],
      "execution_count": 0,
      "outputs": []
    }
  ]
}