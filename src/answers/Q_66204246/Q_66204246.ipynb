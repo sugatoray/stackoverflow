{
  "nbformat": 4,
  "nbformat_minor": 0,
  "metadata": {
    "colab": {
      "name": "Q_66204246.ipynb",
      "provenance": [],
      "authorship_tag": "ABX9TyMOv5OHaKoaZy/pJcRvh5xi",
      "include_colab_link": true
    },
    "kernelspec": {
      "name": "python3",
      "display_name": "Python 3"
    },
    "widgets": {
      "application/vnd.jupyter.widget-state+json": {
        "5c1d24d12196479291c428949cd0e7b3": {
          "model_module": "@jupyter-widgets/controls",
          "model_name": "HBoxModel",
          "state": {
            "_view_name": "HBoxView",
            "_dom_classes": [],
            "_model_name": "HBoxModel",
            "_view_module": "@jupyter-widgets/controls",
            "_model_module_version": "1.5.0",
            "_view_count": null,
            "_view_module_version": "1.5.0",
            "box_style": "",
            "layout": "IPY_MODEL_b938ff0b175a4e0aa584dcd717db6f99",
            "_model_module": "@jupyter-widgets/controls",
            "children": [
              "IPY_MODEL_fc290ca341474ceebc3b691c6e3cc1d1",
              "IPY_MODEL_e482bc63a35443beb897aa9b00e68cdb"
            ]
          }
        },
        "b938ff0b175a4e0aa584dcd717db6f99": {
          "model_module": "@jupyter-widgets/base",
          "model_name": "LayoutModel",
          "state": {
            "_view_name": "LayoutView",
            "grid_template_rows": null,
            "right": null,
            "justify_content": null,
            "_view_module": "@jupyter-widgets/base",
            "overflow": null,
            "_model_module_version": "1.2.0",
            "_view_count": null,
            "flex_flow": null,
            "width": null,
            "min_width": null,
            "border": null,
            "align_items": null,
            "bottom": null,
            "_model_module": "@jupyter-widgets/base",
            "top": null,
            "grid_column": null,
            "overflow_y": null,
            "overflow_x": null,
            "grid_auto_flow": null,
            "grid_area": null,
            "grid_template_columns": null,
            "flex": null,
            "_model_name": "LayoutModel",
            "justify_items": null,
            "grid_row": null,
            "max_height": null,
            "align_content": null,
            "visibility": null,
            "align_self": null,
            "height": null,
            "min_height": null,
            "padding": null,
            "grid_auto_rows": null,
            "grid_gap": null,
            "max_width": null,
            "order": null,
            "_view_module_version": "1.2.0",
            "grid_template_areas": null,
            "object_position": null,
            "object_fit": null,
            "grid_auto_columns": null,
            "margin": null,
            "display": null,
            "left": null
          }
        },
        "fc290ca341474ceebc3b691c6e3cc1d1": {
          "model_module": "@jupyter-widgets/controls",
          "model_name": "FloatProgressModel",
          "state": {
            "_view_name": "ProgressView",
            "style": "IPY_MODEL_8622084d243f429aa638ccd6ff5840b0",
            "_dom_classes": [],
            "description": "Scanning: 100%",
            "_model_name": "FloatProgressModel",
            "bar_style": "success",
            "max": 100000,
            "_view_module": "@jupyter-widgets/controls",
            "_model_module_version": "1.5.0",
            "value": 100000,
            "_view_count": null,
            "_view_module_version": "1.5.0",
            "orientation": "horizontal",
            "min": 0,
            "description_tooltip": null,
            "_model_module": "@jupyter-widgets/controls",
            "layout": "IPY_MODEL_6ba966e709dd41ed98cc0af07fb13576"
          }
        },
        "e482bc63a35443beb897aa9b00e68cdb": {
          "model_module": "@jupyter-widgets/controls",
          "model_name": "HTMLModel",
          "state": {
            "_view_name": "HTMLView",
            "style": "IPY_MODEL_6aefe3ba93f542f7a23df79f8f1b1712",
            "_dom_classes": [],
            "description": "",
            "_model_name": "HTMLModel",
            "placeholder": "​",
            "_view_module": "@jupyter-widgets/controls",
            "_model_module_version": "1.5.0",
            "value": " 100000/100000 [40:11&lt;00:00, 41.46it/s, num_missing=8]",
            "_view_count": null,
            "_view_module_version": "1.5.0",
            "description_tooltip": null,
            "_model_module": "@jupyter-widgets/controls",
            "layout": "IPY_MODEL_d4683aa891654bf8bb41164a895c9eaf"
          }
        },
        "8622084d243f429aa638ccd6ff5840b0": {
          "model_module": "@jupyter-widgets/controls",
          "model_name": "ProgressStyleModel",
          "state": {
            "_view_name": "StyleView",
            "_model_name": "ProgressStyleModel",
            "description_width": "initial",
            "_view_module": "@jupyter-widgets/base",
            "_model_module_version": "1.5.0",
            "_view_count": null,
            "_view_module_version": "1.2.0",
            "bar_color": null,
            "_model_module": "@jupyter-widgets/controls"
          }
        },
        "6ba966e709dd41ed98cc0af07fb13576": {
          "model_module": "@jupyter-widgets/base",
          "model_name": "LayoutModel",
          "state": {
            "_view_name": "LayoutView",
            "grid_template_rows": null,
            "right": null,
            "justify_content": null,
            "_view_module": "@jupyter-widgets/base",
            "overflow": null,
            "_model_module_version": "1.2.0",
            "_view_count": null,
            "flex_flow": null,
            "width": null,
            "min_width": null,
            "border": null,
            "align_items": null,
            "bottom": null,
            "_model_module": "@jupyter-widgets/base",
            "top": null,
            "grid_column": null,
            "overflow_y": null,
            "overflow_x": null,
            "grid_auto_flow": null,
            "grid_area": null,
            "grid_template_columns": null,
            "flex": null,
            "_model_name": "LayoutModel",
            "justify_items": null,
            "grid_row": null,
            "max_height": null,
            "align_content": null,
            "visibility": null,
            "align_self": null,
            "height": null,
            "min_height": null,
            "padding": null,
            "grid_auto_rows": null,
            "grid_gap": null,
            "max_width": null,
            "order": null,
            "_view_module_version": "1.2.0",
            "grid_template_areas": null,
            "object_position": null,
            "object_fit": null,
            "grid_auto_columns": null,
            "margin": null,
            "display": null,
            "left": null
          }
        },
        "6aefe3ba93f542f7a23df79f8f1b1712": {
          "model_module": "@jupyter-widgets/controls",
          "model_name": "DescriptionStyleModel",
          "state": {
            "_view_name": "StyleView",
            "_model_name": "DescriptionStyleModel",
            "description_width": "",
            "_view_module": "@jupyter-widgets/base",
            "_model_module_version": "1.5.0",
            "_view_count": null,
            "_view_module_version": "1.2.0",
            "_model_module": "@jupyter-widgets/controls"
          }
        },
        "d4683aa891654bf8bb41164a895c9eaf": {
          "model_module": "@jupyter-widgets/base",
          "model_name": "LayoutModel",
          "state": {
            "_view_name": "LayoutView",
            "grid_template_rows": null,
            "right": null,
            "justify_content": null,
            "_view_module": "@jupyter-widgets/base",
            "overflow": null,
            "_model_module_version": "1.2.0",
            "_view_count": null,
            "flex_flow": null,
            "width": null,
            "min_width": null,
            "border": null,
            "align_items": null,
            "bottom": null,
            "_model_module": "@jupyter-widgets/base",
            "top": null,
            "grid_column": null,
            "overflow_y": null,
            "overflow_x": null,
            "grid_auto_flow": null,
            "grid_area": null,
            "grid_template_columns": null,
            "flex": null,
            "_model_name": "LayoutModel",
            "justify_items": null,
            "grid_row": null,
            "max_height": null,
            "align_content": null,
            "visibility": null,
            "align_self": null,
            "height": null,
            "min_height": null,
            "padding": null,
            "grid_auto_rows": null,
            "grid_gap": null,
            "max_width": null,
            "order": null,
            "_view_module_version": "1.2.0",
            "grid_template_areas": null,
            "object_position": null,
            "object_fit": null,
            "grid_auto_columns": null,
            "margin": null,
            "display": null,
            "left": null
          }
        }
      }
    }
  },
  "cells": [
    {
      "cell_type": "markdown",
      "metadata": {
        "id": "view-in-github",
        "colab_type": "text"
      },
      "source": [
        "<a href=\"https://colab.research.google.com/github/sugatoray/stackoverflow/blob/master/src/answers/Q_66204246/Q_66204246.ipynb\" target=\"_parent\"><img src=\"https://colab.research.google.com/assets/colab-badge.svg\" alt=\"Open In Colab\"/></a>"
      ]
    },
    {
      "cell_type": "markdown",
      "metadata": {
        "id": "yH9DEjDsuTjX"
      },
      "source": [
        "# Question 66204246\r\n",
        "\r\n",
        "Question: [_Finding the missing values_][#Q]\r\n",
        "\r\n",
        "[#Q]: https://stackoverflow.com/questions/66204246/finding-the-missing-values"
      ]
    },
    {
      "cell_type": "markdown",
      "metadata": {
        "id": "BmI1bK9Krq9K"
      },
      "source": [
        "## Create Dummy Data"
      ]
    },
    {
      "cell_type": "code",
      "metadata": {
        "id": "QMZ3_8O0sy3x"
      },
      "source": [
        "NUM_STUDENTS = 100000"
      ],
      "execution_count": 1,
      "outputs": []
    },
    {
      "cell_type": "code",
      "metadata": {
        "id": "ANIuK2oofMIp"
      },
      "source": [
        "num_students = NUM_STUDENTS\r\n",
        "skip_file_ids = [3, 8, 10, 13]\r\n",
        "skip_files = [f'u{i}.csv' for i in skip_file_ids]\r\n",
        "all_files = [f'u{i}.csv' for i in range(num_students) if i not in skip_file_ids]\r\n",
        "\r\n",
        "if num_students <= 20:\r\n",
        "    print(f'skip_files: {skip_files}')\r\n",
        "    print(f'all_files: {all_files}')"
      ],
      "execution_count": 2,
      "outputs": []
    },
    {
      "cell_type": "markdown",
      "metadata": {
        "id": "J_3liQuOruw5"
      },
      "source": [
        "### Create sample csv files"
      ]
    },
    {
      "cell_type": "code",
      "metadata": {
        "id": "B3PG2bkwgTdl"
      },
      "source": [
        "import os\r\n",
        "\r\n",
        "path = 'test'\r\n",
        "if not os.path.exists(path):\r\n",
        "    os.makedirs(path)\r\n",
        "for filename in all_files:\r\n",
        "    with open(path + '/' + filename, 'w') as f:\r\n",
        "        student_id = str(filename).split(\".\")[0].replace('u', '')\r\n",
        "        content = f\"\"\"\r\n",
        "        Filename,StudentID\r\n",
        "        {filename},{student_id}\r\n",
        "        \"\"\"\r\n",
        "        f.write(content)"
      ],
      "execution_count": 4,
      "outputs": []
    },
    {
      "cell_type": "markdown",
      "metadata": {
        "id": "6RcccMe_r2hS"
      },
      "source": [
        "## Start Solution"
      ]
    },
    {
      "cell_type": "code",
      "metadata": {
        "colab": {
          "base_uri": "https://localhost:8080/"
        },
        "id": "d2V17VZ9fhg4",
        "outputId": "46a5e215-9e71-4327-ec75-d2ea0f942cd3"
      },
      "source": [
        "import os\r\n",
        "import glob\r\n",
        "from tqdm.notebook import tqdm\r\n",
        "import pandas as pd\r\n",
        "\r\n",
        "path = 'test'\r\n",
        "all_files = glob.glob(path + \"/*.csv\")\r\n",
        "missing_files = []\r\n",
        "num_students = NUM_STUDENTS # 297444\r\n",
        "\r\n",
        "print(num_students)"
      ],
      "execution_count": 5,
      "outputs": [
        {
          "output_type": "stream",
          "text": [
            "100000\n"
          ],
          "name": "stdout"
        }
      ]
    },
    {
      "cell_type": "markdown",
      "metadata": {
        "id": "TvhqZz5hrHHd"
      },
      "source": [
        "### Method-1: Simple Python Loop (_fastest_) 🔥🔥🔥"
      ]
    },
    {
      "cell_type": "code",
      "metadata": {
        "colab": {
          "base_uri": "https://localhost:8080/"
        },
        "id": "NwUhfQkSg0iv",
        "outputId": "0296fbae-f467-4ac4-b3d2-d5da5ac44ebd"
      },
      "source": [
        "%%time\r\n",
        "\r\n",
        "missing_files = []\r\n",
        "\r\n",
        "for i in range(num_students):\r\n",
        "    student_file = f'u{i}.csv'\r\n",
        "    if f'{path}/{student_file}' not in all_files:\r\n",
        "        missing_files.append(student_file)\r\n",
        "\r\n",
        "#print(f\"Total missing: {len(missing_files)}\")\r\n",
        "#print(missing_files)"
      ],
      "execution_count": 6,
      "outputs": [
        {
          "output_type": "stream",
          "text": [
            "CPU times: user 1min 29s, sys: 0 ns, total: 1min 29s\n",
            "Wall time: 1min 29s\n"
          ],
          "name": "stdout"
        }
      ]
    },
    {
      "cell_type": "markdown",
      "metadata": {
        "id": "hb5ZdmUKrdR3"
      },
      "source": [
        "### Method-2: Process using Pandas library"
      ]
    },
    {
      "cell_type": "code",
      "metadata": {
        "colab": {
          "base_uri": "https://localhost:8080/"
        },
        "id": "ieyIu_LZoBx8",
        "outputId": "df60995a-9776-415e-f193-c6153342041f"
      },
      "source": [
        "%%time\r\n",
        "# import pandas as pd\r\n",
        "\r\n",
        "existing_student_ids = (\r\n",
        "    pd.DataFrame({'Filename': all_files})\r\n",
        "      .Filename.str.extract(f'{path}/u(?P<StudentID>\\d+)\\.csv')\r\n",
        "      .astype(int)\r\n",
        "      .sort_values('StudentID')\r\n",
        "      .StudentID.to_list()\r\n",
        ")\r\n",
        "\r\n",
        "missing_student_ids = list(set(range(num_students)) - set(existing_student_ids))\r\n",
        "\r\n",
        "# print(f\"Total missing students: {len(missing_student_ids)}\")\r\n",
        "# print(f'missing_student_ids: {missing_student_ids}')"
      ],
      "execution_count": 7,
      "outputs": [
        {
          "output_type": "stream",
          "text": [
            "CPU times: user 321 ms, sys: 0 ns, total: 321 ms\n",
            "Wall time: 325 ms\n"
          ],
          "name": "stdout"
        }
      ]
    },
    {
      "cell_type": "markdown",
      "metadata": {
        "id": "QAe3opBerQKN"
      },
      "source": [
        "### Method-3: Python loop with progressbar (_slowest_)\r\n",
        "\r\n",
        "This will be SLOW if you have a lot of files and it takes time to process them."
      ]
    },
    {
      "cell_type": "code",
      "metadata": {
        "colab": {
          "base_uri": "https://localhost:8080/",
          "height": 100,
          "referenced_widgets": [
            "5c1d24d12196479291c428949cd0e7b3",
            "b938ff0b175a4e0aa584dcd717db6f99",
            "fc290ca341474ceebc3b691c6e3cc1d1",
            "e482bc63a35443beb897aa9b00e68cdb",
            "8622084d243f429aa638ccd6ff5840b0",
            "6ba966e709dd41ed98cc0af07fb13576",
            "6aefe3ba93f542f7a23df79f8f1b1712",
            "d4683aa891654bf8bb41164a895c9eaf"
          ]
        },
        "id": "x3HpPcr1qhGT",
        "outputId": "746f2abb-4127-4653-f6d1-3bdb4ca22465"
      },
      "source": [
        "%%time\r\n",
        "pbar = tqdm(range(num_students), desc=\"Scanning\")\r\n",
        "\r\n",
        "for i in pbar:\r\n",
        "    student_file = f'u{i}.csv'\r\n",
        "    if f'{path}/{student_file}' not in all_files:\r\n",
        "        missing_files.append(student_file)\r\n",
        "        pbar.set_postfix({'num_missing': len(missing_files)})\r\n",
        "\r\n",
        "# print(f\"Total missing: {len(missing_files)}\")\r\n",
        "# print(missing_files)"
      ],
      "execution_count": 82,
      "outputs": [
        {
          "output_type": "display_data",
          "data": {
            "application/vnd.jupyter.widget-view+json": {
              "model_id": "5c1d24d12196479291c428949cd0e7b3",
              "version_minor": 0,
              "version_major": 2
            },
            "text/plain": [
              "HBox(children=(FloatProgress(value=0.0, description='Scanning', max=100000.0, style=ProgressStyle(description_…"
            ]
          },
          "metadata": {
            "tags": []
          }
        },
        {
          "output_type": "stream",
          "text": [
            "\n",
            "CPU times: user 1min 41s, sys: 805 ms, total: 1min 41s\n",
            "Wall time: 1min 44s\n"
          ],
          "name": "stdout"
        }
      ]
    },
    {
      "cell_type": "code",
      "metadata": {
        "id": "brca3w-q4UH0"
      },
      "source": [
        ""
      ],
      "execution_count": null,
      "outputs": []
    }
  ]
}