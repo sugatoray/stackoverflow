{
  "nbformat": 4,
  "nbformat_minor": 0,
  "metadata": {
    "colab": {
      "name": "Q_69321580.ipynb",
      "provenance": [],
      "include_colab_link": true
    },
    "kernelspec": {
      "display_name": "Python 3",
      "name": "python3"
    }
  },
  "cells": [
    {
      "cell_type": "markdown",
      "metadata": {
        "id": "view-in-github",
        "colab_type": "text"
      },
      "source": [
        "<a href=\"https://colab.research.google.com/github/sugatoray/stackoverflow/blob/master/src/answers/Q_69321580/Q_69321580.ipynb\" target=\"_parent\"><img src=\"https://colab.research.google.com/assets/colab-badge.svg\" alt=\"Open In Colab\"/></a>"
      ]
    },
    {
      "cell_type": "markdown",
      "metadata": {
        "id": "FgCpNh4TLjfI"
      },
      "source": [
        "# Stackoverflow Question: [69321580][#Q]\n",
        "\n",
        "[#Q]: https://stackoverflow.com/questions/69321580/jinja-table-when-column-value-then-add-div-to-specific-column/69321665#69321665"
      ]
    },
    {
      "cell_type": "code",
      "metadata": {
        "id": "BgcozP01A3ck"
      },
      "source": [
        "src/notebooks/jinja2_python_notebook.ipynb"
      ],
      "execution_count": null,
      "outputs": []
    },
    {
      "cell_type": "code",
      "metadata": {
        "id": "4ockw8cDPaOp"
      },
      "source": [
        "import string\n",
        "from typing import List\n",
        "\n",
        "import numpy as np\n",
        "import pandas as pd\n",
        "from jinja2 import Template\n",
        "\n",
        "def make_row(letter:str, ncols: int=5) -> List[str]:\n",
        "    return [ f'{letter}{str(i).zfill(len(str(ncols)))}' for i in range(ncols) ]\n",
        "\n",
        "def make_data(nrows: int=5, ncols: int=6) -> pd.DataFrame:\n",
        "    data = []\n",
        "    # nrows = 5\n",
        "    # ncols = 6\n",
        "    columns = list(string.ascii_uppercase[0:ncols])\n",
        "    rowlabels = list(string.ascii_uppercase[0:nrows])\n",
        "    for letter in rowlabels:\n",
        "        data.append(make_row(letter=letter, ncols=ncols-1))\n",
        "\n",
        "    data = np.array(data)\n",
        "    data = np.hstack([data, np.random.randint(0,2,nrows).reshape((nrows,1))])\n",
        "\n",
        "    df = pd.DataFrame(data, columns=columns)\n",
        "\n",
        "    return df"
      ],
      "execution_count": null,
      "outputs": []
    },
    {
      "cell_type": "code",
      "metadata": {
        "colab": {
          "base_uri": "https://localhost:8080/"
        },
        "id": "lIYdn1woOS1n",
        "outputId": "87525d9d-ee5a-441a-fae2-9cbe3b9011c0"
      },
      "source": [
        "%%writefile template.html\n",
        "<table>\n",
        "    <thead>\n",
        "\n",
        "        <tr>\n",
        "        {% for col in column_names %}\n",
        "        <th>\n",
        "        \n",
        "            {{col}}\n",
        "            \n",
        "        </th>\n",
        "        {% endfor %}\n",
        "        </tr>\n",
        "\n",
        "    </thead>\n",
        "    <tbody>\n",
        "        {% for row in row_data %}\n",
        "        <tr>\n",
        "        {% for col, row_ in zip(column_names, row) %}\n",
        "\n",
        "        {% if loop.index == 1 %} \n",
        "        <td> \n",
        "\n",
        "            {{ '<div class=\"circle\" style=\"float: left;\">LB</div>' if row[target_col_num] == 1 else '' }} {{ row_ }}\n",
        "\n",
        "        </td>\n",
        "        {% else %}\n",
        "            \n",
        "            <td>{{ row_ }}</td>\n",
        "\n",
        "        {% endif %}\n",
        "\n",
        "        {% endfor %}\n",
        "        </tr>\n",
        "        {% endfor %}\n",
        "     \n",
        "    </tbody>\n",
        "  \n",
        "</table>"
      ],
      "execution_count": null,
      "outputs": [
        {
          "output_type": "stream",
          "name": "stdout",
          "text": [
            "Overwriting template.html\n"
          ]
        }
      ]
    },
    {
      "cell_type": "code",
      "metadata": {
        "id": "_LOTXlqVaz4j"
      },
      "source": [
        "df = make_data(nrows=5, ncols=6)"
      ],
      "execution_count": null,
      "outputs": []
    },
    {
      "cell_type": "code",
      "metadata": {
        "colab": {
          "base_uri": "https://localhost:8080/",
          "height": 206
        },
        "id": "cFPDYSA1R0g4",
        "outputId": "813fd4b7-97fc-4ce6-fac8-51e9ad6b5914"
      },
      "source": [
        "df"
      ],
      "execution_count": null,
      "outputs": [
        {
          "output_type": "execute_result",
          "data": {
            "text/html": [
              "<div>\n",
              "<style scoped>\n",
              "    .dataframe tbody tr th:only-of-type {\n",
              "        vertical-align: middle;\n",
              "    }\n",
              "\n",
              "    .dataframe tbody tr th {\n",
              "        vertical-align: top;\n",
              "    }\n",
              "\n",
              "    .dataframe thead th {\n",
              "        text-align: right;\n",
              "    }\n",
              "</style>\n",
              "<table border=\"1\" class=\"dataframe\">\n",
              "  <thead>\n",
              "    <tr style=\"text-align: right;\">\n",
              "      <th></th>\n",
              "      <th>A</th>\n",
              "      <th>B</th>\n",
              "      <th>C</th>\n",
              "      <th>D</th>\n",
              "      <th>E</th>\n",
              "      <th>F</th>\n",
              "    </tr>\n",
              "  </thead>\n",
              "  <tbody>\n",
              "    <tr>\n",
              "      <th>0</th>\n",
              "      <td>A0</td>\n",
              "      <td>A1</td>\n",
              "      <td>A2</td>\n",
              "      <td>A3</td>\n",
              "      <td>A4</td>\n",
              "      <td>1</td>\n",
              "    </tr>\n",
              "    <tr>\n",
              "      <th>1</th>\n",
              "      <td>B0</td>\n",
              "      <td>B1</td>\n",
              "      <td>B2</td>\n",
              "      <td>B3</td>\n",
              "      <td>B4</td>\n",
              "      <td>0</td>\n",
              "    </tr>\n",
              "    <tr>\n",
              "      <th>2</th>\n",
              "      <td>C0</td>\n",
              "      <td>C1</td>\n",
              "      <td>C2</td>\n",
              "      <td>C3</td>\n",
              "      <td>C4</td>\n",
              "      <td>0</td>\n",
              "    </tr>\n",
              "    <tr>\n",
              "      <th>3</th>\n",
              "      <td>D0</td>\n",
              "      <td>D1</td>\n",
              "      <td>D2</td>\n",
              "      <td>D3</td>\n",
              "      <td>D4</td>\n",
              "      <td>0</td>\n",
              "    </tr>\n",
              "    <tr>\n",
              "      <th>4</th>\n",
              "      <td>E0</td>\n",
              "      <td>E1</td>\n",
              "      <td>E2</td>\n",
              "      <td>E3</td>\n",
              "      <td>E4</td>\n",
              "      <td>0</td>\n",
              "    </tr>\n",
              "  </tbody>\n",
              "</table>\n",
              "</div>"
            ],
            "text/plain": [
              "    A   B   C   D   E  F\n",
              "0  A0  A1  A2  A3  A4  1\n",
              "1  B0  B1  B2  B3  B4  0\n",
              "2  C0  C1  C2  C3  C4  0\n",
              "3  D0  D1  D2  D3  D4  0\n",
              "4  E0  E1  E2  E3  E4  0"
            ]
          },
          "metadata": {},
          "execution_count": 59
        }
      ]
    },
    {
      "cell_type": "code",
      "metadata": {
        "colab": {
          "base_uri": "https://localhost:8080/"
        },
        "id": "XjNmUIx0SeeS",
        "outputId": "17dc1911-889e-46d3-cab7-fcf9f9810974"
      },
      "source": [
        "df.columns"
      ],
      "execution_count": null,
      "outputs": [
        {
          "output_type": "execute_result",
          "data": {
            "text/plain": [
              "Index(['A', 'B', 'C', 'D', 'E', 'F'], dtype='object')"
            ]
          },
          "metadata": {},
          "execution_count": 60
        }
      ]
    },
    {
      "cell_type": "code",
      "metadata": {
        "id": "CiER3zyKW0mm"
      },
      "source": [
        "with open('template.html', 'r') as f:\n",
        "    template = f.read()"
      ],
      "execution_count": null,
      "outputs": []
    },
    {
      "cell_type": "code",
      "metadata": {
        "id": "owgVc_CaBFI7"
      },
      "source": [
        "t = Template(template)\n",
        "output = t.render(\n",
        "    column_names=df.columns, \n",
        "    row_data=df.loc[0].tolist(), \n",
        "    target_col_num=5,\n",
        "    zip=zip,\n",
        ")"
      ],
      "execution_count": null,
      "outputs": []
    },
    {
      "cell_type": "code",
      "metadata": {
        "id": "M2xJGFGmUN8n"
      },
      "source": [
        "t = Template(\"This is {{ fname }}.\")"
      ],
      "execution_count": null,
      "outputs": []
    },
    {
      "cell_type": "code",
      "metadata": {
        "colab": {
          "base_uri": "https://localhost:8080/",
          "height": 35
        },
        "id": "k1gSYhu8V6L6",
        "outputId": "1feb19ca-31f0-48ec-9d37-23ada431cca8"
      },
      "source": [
        "t.render(fname=\"Joe\")"
      ],
      "execution_count": null,
      "outputs": [
        {
          "output_type": "execute_result",
          "data": {
            "application/vnd.google.colaboratory.intrinsic+json": {
              "type": "string"
            },
            "text/plain": [
              "'This is Joe.'"
            ]
          },
          "metadata": {},
          "execution_count": 47
        }
      ]
    },
    {
      "cell_type": "code",
      "metadata": {
        "id": "GKflAGmdWeX2"
      },
      "source": [
        "from IPython.display import HTML"
      ],
      "execution_count": null,
      "outputs": []
    },
    {
      "cell_type": "code",
      "metadata": {
        "colab": {
          "base_uri": "https://localhost:8080/",
          "height": 169
        },
        "id": "eDQ_rW9PbPt8",
        "outputId": "338aade6-25d1-4a4d-bc19-aa9506e65712"
      },
      "source": [
        "HTML(output)"
      ],
      "execution_count": null,
      "outputs": [
        {
          "output_type": "execute_result",
          "data": {
            "text/html": [
              "<table>\n",
              "    <thead>\n",
              "\n",
              "        <tr>\n",
              "        \n",
              "        <th>\n",
              "        \n",
              "            A\n",
              "            \n",
              "        </th>\n",
              "        \n",
              "        <th>\n",
              "        \n",
              "            B\n",
              "            \n",
              "        </th>\n",
              "        \n",
              "        <th>\n",
              "        \n",
              "            C\n",
              "            \n",
              "        </th>\n",
              "        \n",
              "        <th>\n",
              "        \n",
              "            D\n",
              "            \n",
              "        </th>\n",
              "        \n",
              "        <th>\n",
              "        \n",
              "            E\n",
              "            \n",
              "        </th>\n",
              "        \n",
              "        <th>\n",
              "        \n",
              "            F\n",
              "            \n",
              "        </th>\n",
              "        \n",
              "        </tr>\n",
              "\n",
              "    </thead>\n",
              "    <tbody>\n",
              "        \n",
              "        <tr>\n",
              "        \n",
              "\n",
              "         \n",
              "        <td> \n",
              "\n",
              "             A\n",
              "\n",
              "        </td>\n",
              "        \n",
              "\n",
              "        \n",
              "\n",
              "        \n",
              "            \n",
              "            <td>0</td>\n",
              "\n",
              "        \n",
              "\n",
              "        \n",
              "        </tr>\n",
              "        \n",
              "        <tr>\n",
              "        \n",
              "\n",
              "         \n",
              "        <td> \n",
              "\n",
              "             A\n",
              "\n",
              "        </td>\n",
              "        \n",
              "\n",
              "        \n",
              "\n",
              "        \n",
              "            \n",
              "            <td>1</td>\n",
              "\n",
              "        \n",
              "\n",
              "        \n",
              "        </tr>\n",
              "        \n",
              "        <tr>\n",
              "        \n",
              "\n",
              "         \n",
              "        <td> \n",
              "\n",
              "             A\n",
              "\n",
              "        </td>\n",
              "        \n",
              "\n",
              "        \n",
              "\n",
              "        \n",
              "            \n",
              "            <td>2</td>\n",
              "\n",
              "        \n",
              "\n",
              "        \n",
              "        </tr>\n",
              "        \n",
              "        <tr>\n",
              "        \n",
              "\n",
              "         \n",
              "        <td> \n",
              "\n",
              "             A\n",
              "\n",
              "        </td>\n",
              "        \n",
              "\n",
              "        \n",
              "\n",
              "        \n",
              "            \n",
              "            <td>3</td>\n",
              "\n",
              "        \n",
              "\n",
              "        \n",
              "        </tr>\n",
              "        \n",
              "        <tr>\n",
              "        \n",
              "\n",
              "         \n",
              "        <td> \n",
              "\n",
              "             A\n",
              "\n",
              "        </td>\n",
              "        \n",
              "\n",
              "        \n",
              "\n",
              "        \n",
              "            \n",
              "            <td>4</td>\n",
              "\n",
              "        \n",
              "\n",
              "        \n",
              "        </tr>\n",
              "        \n",
              "        <tr>\n",
              "        \n",
              "\n",
              "         \n",
              "        <td> \n",
              "\n",
              "             1\n",
              "\n",
              "        </td>\n",
              "        \n",
              "\n",
              "        \n",
              "        </tr>\n",
              "        \n",
              "     \n",
              "    </tbody>\n",
              "  \n",
              "</table>"
            ],
            "text/plain": [
              "<IPython.core.display.HTML object>"
            ]
          },
          "metadata": {},
          "execution_count": 64
        }
      ]
    },
    {
      "cell_type": "code",
      "metadata": {
        "id": "waGX6K9ZbXTR"
      },
      "source": [
        ""
      ],
      "execution_count": null,
      "outputs": []
    }
  ]
}