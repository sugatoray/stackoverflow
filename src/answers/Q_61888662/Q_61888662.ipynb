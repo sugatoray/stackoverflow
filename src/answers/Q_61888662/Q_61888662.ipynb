{
  "nbformat": 4,
  "nbformat_minor": 0,
  "metadata": {
    "colab": {
      "name": "Q_61888662.ipynb",
      "provenance": [],
      "collapsed_sections": [],
      "authorship_tag": "ABX9TyOvXCDCZ3akBz+aguXrnnLy",
      "include_colab_link": true
    },
    "kernelspec": {
      "name": "python3",
      "display_name": "Python 3"
    }
  },
  "cells": [
    {
      "cell_type": "markdown",
      "metadata": {
        "id": "view-in-github",
        "colab_type": "text"
      },
      "source": [
        "<a href=\"https://colab.research.google.com/github/sugatoray/stackoverflow/blob/master/src/answers/Q_61888662/Q_61888662.ipynb\" target=\"_parent\"><img src=\"https://colab.research.google.com/assets/colab-badge.svg\" alt=\"Open In Colab\"/></a>"
      ]
    },
    {
      "cell_type": "markdown",
      "metadata": {
        "id": "7lPvhAD3N2-5",
        "colab_type": "text"
      },
      "source": [
        "# [Q_61888662][#q]\n",
        "\n",
        "[#q]: https://stackoverflow.com/questions/61888662/find-the-next-date-time-multiple-than-5\n",
        "\n",
        "Question: _[Find the next date-time multiple than 5][#q]_"
      ]
    },
    {
      "cell_type": "markdown",
      "metadata": {
        "id": "IR-UIAngMkPH",
        "colab_type": "text"
      },
      "source": [
        "# Solution\n",
        "\n",
        "Try this. If `ts` is your `datetime` object, \n",
        "\n",
        "```python\n",
        "ts.replace(second=0, microsecond=0) + timedelta(minute=ceil(ts.minute/5)*5)\n",
        "```\n",
        "\n",
        "## Example\n",
        "\n",
        "```python\n",
        "from math import ceil\n",
        "from datetime import datetime, timedelta\n",
        "\n",
        "ts = datetime.now()\n",
        "print(f'BEFORE: {ts}')\n",
        "ts = ts.replace(second=0, microsecond=0) + timedelta(minute=ceil(ts.minute/5)*5)\n",
        "print(f'AFTER: {ts}')\n",
        "```\n",
        "\n",
        "**Output**:  \n",
        "\n",
        "```bash\n",
        "BEFORE: 2020-05-19 10:41:33.071380\n",
        "AFTER: 2020-05-19 10:45:00\n",
        "```\n",
        "\n",
        "## Cases tested with\n",
        "\n",
        "```python\n",
        "minutes = [33, 35, 37, 39, 40, 41, 43, 45]\n",
        "expected = [35, 35, 40, 40, 40, 45, 45, 45]\n",
        "\n",
        "tests = []\n",
        "for m, e in zip(minutes, expected):\n",
        "    err = ceil(m/5)*5 - e\n",
        "    if err!=0:\n",
        "        tests.append({'m': m, 'e': e, 'err': err})\n",
        "if tests:\n",
        "    print(\"Tests FAILED: \\n\")\n",
        "    for test in tests: print(f\" {test}\")\n",
        "else:\n",
        "    print(\"ALL Tests PASSED.\")\n",
        "\n",
        "## Output\n",
        "# ALL Tests PASSED.\n",
        "```"
      ]
    },
    {
      "cell_type": "markdown",
      "metadata": {
        "id": "OySFWGaUMo68",
        "colab_type": "text"
      },
      "source": [
        "## Application\n",
        "\n",
        "Here we try the code-block from the example above."
      ]
    },
    {
      "cell_type": "code",
      "metadata": {
        "id": "KFWcqZ9RLoyA",
        "colab_type": "code",
        "colab": {
          "base_uri": "https://localhost:8080/",
          "height": 52
        },
        "outputId": "7f17ecb1-e88a-41e7-d28d-bc36b758ed6c"
      },
      "source": [
        "from math import ceil\n",
        "from datetime import datetime, timedelta\n",
        " \n",
        "ts = datetime.now()\n",
        "print(f'BEFORE: {ts}')\n",
        "ts = ts.replace(second=0, microsecond=0) + timedelta(minutes=ceil(ts.minute/5)*5)\n",
        "print(f'AFTER: {ts}')"
      ],
      "execution_count": 2,
      "outputs": [
        {
          "output_type": "stream",
          "text": [
            "BEFORE: 2020-05-20 03:50:48.981746\n",
            "AFTER: 2020-05-20 04:40:00\n"
          ],
          "name": "stdout"
        }
      ]
    },
    {
      "cell_type": "code",
      "metadata": {
        "id": "vIE3vGswM8QB",
        "colab_type": "code",
        "colab": {}
      },
      "source": [
        ""
      ],
      "execution_count": 0,
      "outputs": []
    }
  ]
}