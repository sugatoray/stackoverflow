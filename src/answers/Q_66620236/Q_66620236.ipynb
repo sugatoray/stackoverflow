{
  "nbformat": 4,
  "nbformat_minor": 0,
  "metadata": {
    "colab": {
      "name": "Q_66620236.ipynb",
      "provenance": [],
      "collapsed_sections": [],
      "authorship_tag": "ABX9TyPuGWan6Zgp9cNgbKWZqGRx",
      "include_colab_link": true
    },
    "kernelspec": {
      "name": "python3",
      "display_name": "Python 3"
    }
  },
  "cells": [
    {
      "cell_type": "markdown",
      "metadata": {
        "id": "view-in-github",
        "colab_type": "text"
      },
      "source": [
        "<a href=\"https://colab.research.google.com/github/sugatoray/stackoverflow/blob/master/src/answers/Q_66620236/Q_66620236.ipynb\" target=\"_parent\"><img src=\"https://colab.research.google.com/assets/colab-badge.svg\" alt=\"Open In Colab\"/></a>"
      ]
    },
    {
      "cell_type": "markdown",
      "metadata": {
        "id": "7D8xySw16ULn"
      },
      "source": [
        "# Solution to Stackoverflow Question: `66620236`\r\n",
        "\r\n",
        "See: [Question][#Q]\r\n",
        "\r\n",
        "[#Q]: https://stackoverflow.com/questions/66620236/multiple-modification-to-a-list-at-once"
      ]
    },
    {
      "cell_type": "markdown",
      "metadata": {
        "id": "vFVPVDV47Nh8"
      },
      "source": [
        "## Make Dummy Data"
      ]
    },
    {
      "cell_type": "code",
      "metadata": {
        "colab": {
          "base_uri": "https://localhost:8080/"
        },
        "id": "hydAE2u2pvCN",
        "outputId": "96c3172f-50ee-4cea-abce-5fb3c616f6b9"
      },
      "source": [
        "%%writefile input.txt\r\n",
        "\r\n",
        "a0b1:ff33:acd5 ghwvauguvwi ybvakvi\r\n",
        "klasilvavh; 11b9:33df:55f6\r\n",
        "haliviv\r\n",
        "a4d1:e733:ff55\r\n",
        "66a1:b2f3:b9c5\r\n"
      ],
      "execution_count": 1,
      "outputs": [
        {
          "output_type": "stream",
          "text": [
            "Writing input.txt\n"
          ],
          "name": "stdout"
        }
      ]
    },
    {
      "cell_type": "markdown",
      "metadata": {
        "id": "bg36MgHC7QSn"
      },
      "source": [
        "## **Code**: Convenience Functions"
      ]
    },
    {
      "cell_type": "code",
      "metadata": {
        "id": "BVI2u23lqAdd"
      },
      "source": [
        "def make_dummy_data(filepath: str):\r\n",
        "    \r\n",
        "    s = \"\"\"\r\n",
        "    a0b1:ff33:acd5 ghwvauguvwi ybvakvi\r\n",
        "    klasilvavh; 11b9:33df:55f6\r\n",
        "    haliviv\r\n",
        "    a4d1:e733:ff55\r\n",
        "    66a1:b2f3:b9c5\r\n",
        "    \"\"\"\r\n",
        "\r\n",
        "    # Create dummy data file\r\n",
        "    with open(filepath, \"w\") as f:\r\n",
        "        f.write(s)\r\n",
        "\r\n",
        "    print(f\"Created file: {filepath}\")\r\n",
        "\r\n",
        "def read_file(filepath):\r\n",
        "    \"\"\"Reads and returns the content of a file.\"\"\"\r\n",
        "\r\n",
        "    with open(filepath, \"r\") as f:\r\n",
        "        content = f.read() # read in one attemp\r\n",
        "    return content\r\n",
        "\r\n",
        "def format_mac_id(mac_id: str):\r\n",
        "    \"\"\"Returns a formatted mac_id.\r\n",
        "    INPUT FORMAT: \"xxxxxxxxxxxx\"\r\n",
        "    OUTPUT FORMAT: \"xx-xx-xx-xx-xx-xx\"\r\n",
        "    \"\"\"\r\n",
        "    \r\n",
        "    mac_id = list(mac_id)\r\n",
        "    mac_id = ''.join([ f\"-{v}\" if (i % 2 == 0) else v for i, v in enumerate(mac_id)])[1:]\r\n",
        "    return mac_id\r\n",
        "\r\n",
        "def extract_mac_ids(content: str, format=True):\r\n",
        "    \"\"\"Extracts and returns a list of formatted mac_ids after.\r\n",
        "    INPUT FORMAT: \"xxxx:xxxx:xxxx\"\r\n",
        "    OUTPUT FORMAT: \"xx-xx-xx-xx-xx-xx\"\r\n",
        "    \"\"\"\r\n",
        "    \r\n",
        "    import re\r\n",
        "    pattern = r\"(\\w{4}:\\w{4}:\\w{4})\"\r\n",
        "    pat = re.compile(pattern)\r\n",
        "    mac_ids = pat.findall(content) # returns a list of all mac-ids\r\n",
        "    # Replaces the \":\" with \"\" and then formats \r\n",
        "    # each mac-id as: \"xx-xx-xx-xx-xx-xx\"\r\n",
        "    if format:\r\n",
        "        mac_ids = [format_mac_id(mac_id.replace(\":\", \"\")) for mac_id in mac_ids]\r\n",
        "    return mac_ids"
      ],
      "execution_count": 2,
      "outputs": []
    },
    {
      "cell_type": "markdown",
      "metadata": {
        "id": "il8oOVJp7YS3"
      },
      "source": [
        "## Extract and Process the MAC IDs"
      ]
    },
    {
      "cell_type": "code",
      "metadata": {
        "colab": {
          "base_uri": "https://localhost:8080/"
        },
        "id": "HqPQB5GEpny3",
        "outputId": "9f1308ba-d2de-4531-d9fa-a7f0a43fcb0a"
      },
      "source": [
        "# import re\r\n",
        "\r\n",
        "filepath = \"input.txt\"\r\n",
        "content = read_file(filepath)\r\n",
        "mac_ids = extract_mac_ids(content, format=True)\r\n",
        "\r\n",
        "mac_ids\r\n",
        "# ['00-11-22-33-44-55',\r\n",
        "#  '11-22-33-44-55-66',\r\n",
        "#  '44-11-77-33-66-55',\r\n",
        "#  '66-11-22-33-99-55']"
      ],
      "execution_count": 3,
      "outputs": [
        {
          "output_type": "execute_result",
          "data": {
            "text/plain": [
              "['a0-b1-ff-33-ac-d5',\n",
              " '11-b9-33-df-55-f6',\n",
              " 'a4-d1-e7-33-ff-55',\n",
              " '66-a1-b2-f3-b9-c5']"
            ]
          },
          "metadata": {
            "tags": []
          },
          "execution_count": 3
        }
      ]
    },
    {
      "cell_type": "markdown",
      "metadata": {
        "id": "i4kwY6GG7fZo"
      },
      "source": [
        "## Create Python File: `Q_66620236.py`"
      ]
    },
    {
      "cell_type": "code",
      "metadata": {
        "colab": {
          "base_uri": "https://localhost:8080/"
        },
        "id": "XKsgCzFLsCh_",
        "outputId": "b3b18d4d-fbdf-419e-818c-dd27d349e05f"
      },
      "source": [
        "%%writefile Q_66620236.py\r\n",
        "import re\r\n",
        "\r\n",
        "# Solution to: Q-66620236 on Stackoverflow\r\n",
        "# filepath = \"input.txt\"\r\n",
        "\r\n",
        "def make_dummy_data(filepath: str):\r\n",
        "    \r\n",
        "    s = \"\"\"\r\n",
        "    a0b1:ff33:acd5 ghwvauguvwi ybvakvi\r\n",
        "    klasilvavh; 11b9:33df:55f6\r\n",
        "    haliviv\r\n",
        "    a4d1:e733:ff55\r\n",
        "    66a1:b2f3:b9c5\r\n",
        "    \"\"\"\r\n",
        "\r\n",
        "    # Create dummy data file\r\n",
        "    with open(filepath, \"w\") as f:\r\n",
        "        f.write(s)\r\n",
        "\r\n",
        "    print(f\"Created file: {filepath}\")\r\n",
        "\r\n",
        "def read_file(filepath: str):\r\n",
        "    \"\"\"Reads and returns the content of a file.\"\"\"\r\n",
        "\r\n",
        "    with open(filepath, \"r\") as f:\r\n",
        "        content = f.read() # read in one attemp\r\n",
        "    return content\r\n",
        "\r\n",
        "def format_mac_id(mac_id: str):\r\n",
        "    \"\"\"Returns a formatted mac_id.\r\n",
        "    INPUT FORMAT: \"xxxxxxxxxxxx\"\r\n",
        "    OUTPUT FORMAT: \"xx-xx-xx-xx-xx-xx\"\r\n",
        "    \"\"\"\r\n",
        "    \r\n",
        "    mac_id = list(mac_id)\r\n",
        "    mac_id = ''.join([ f\"-{v}\" if (i % 2 == 0) else v for i, v in enumerate(mac_id)])[1:]\r\n",
        "    return mac_id\r\n",
        "\r\n",
        "def extract_mac_ids(content: str, format: bool=True):\r\n",
        "    \"\"\"Extracts and returns a list of formatted mac_ids after.\r\n",
        "    INPUT FORMAT: \"xxxx:xxxx:xxxx\"\r\n",
        "    OUTPUT FORMAT: \"xx-xx-xx-xx-xx-xx\"\r\n",
        "    \"\"\"\r\n",
        "    \r\n",
        "    # import re\r\n",
        "    pattern = r\"(\\d{4}:\\d{4}:\\d{4})\"\r\n",
        "    pat = re.compile(pattern)\r\n",
        "    mac_ids = pat.findall(content) # returns a list of all mac-ids\r\n",
        "    # Replaces the \":\" with \"\" and then formats \r\n",
        "    # each mac-id as: \"xx-xx-xx-xx-xx-xx\"\r\n",
        "    if format:\r\n",
        "        mac_ids = [format_mac_id(mac_id.replace(\":\", \"\")) for mac_id in mac_ids]\r\n",
        "    return mac_ids\r\n",
        "\r\n",
        "\r\n",
        "if __name__ == \"__Main__\":\r\n",
        "\r\n",
        "    filepath = \"input.txt\"\r\n",
        "    use_dummy_data = True\r\n",
        "\r\n",
        "    if use_dummy_data:\r\n",
        "        make_dummy_data(filepath)\r\n",
        "    \r\n",
        "    content = read_file(filepath)\r\n",
        "    mac_ids = extract_mac_ids(content, format=True)\r\n",
        "\r\n",
        "    print(mac_ids)\r\n",
        "\r\n",
        "    ## Output: for Dummy Data\r\n",
        "    #\r\n",
        "    # ['a0-b1-ff-33-ac-d5',\r\n",
        "    #  '11-b9-33-df-55-f6',\r\n",
        "    #  'a4-d1-e7-33-ff-55',\r\n",
        "    #  '66-a1-b2-f3-b9-c5']"
      ],
      "execution_count": 4,
      "outputs": [
        {
          "output_type": "stream",
          "text": [
            "Writing Q_66620236.py\n"
          ],
          "name": "stdout"
        }
      ]
    }
  ]
}