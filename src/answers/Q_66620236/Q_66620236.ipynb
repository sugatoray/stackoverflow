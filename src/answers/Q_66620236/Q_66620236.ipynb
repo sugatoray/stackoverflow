{
  "nbformat": 4,
  "nbformat_minor": 0,
  "metadata": {
    "colab": {
      "name": "Q_66620236.ipynb",
      "provenance": [],
      "collapsed_sections": [],
      "authorship_tag": "ABX9TyNMvt82+2i9lwKEWvS9Z9rb",
      "include_colab_link": true
    },
    "kernelspec": {
      "name": "python3",
      "display_name": "Python 3"
    }
  },
  "cells": [
    {
      "cell_type": "markdown",
      "metadata": {
        "id": "view-in-github",
        "colab_type": "text"
      },
      "source": [
        "<a href=\"https://colab.research.google.com/github/sugatoray/stackoverflow/blob/master/src/answers/Q_66620236/Q_66620236.ipynb\" target=\"_parent\"><img src=\"https://colab.research.google.com/assets/colab-badge.svg\" alt=\"Open In Colab\"/></a>"
      ]
    },
    {
      "cell_type": "markdown",
      "metadata": {
        "id": "7D8xySw16ULn"
      },
      "source": [
        "# Solution to Stackoverflow Question: `66620236`\r\n",
        "\r\n",
        "See: [Question][#Q]\r\n",
        "\r\n",
        "[#Q]: https://stackoverflow.com/questions/66620236/multiple-modification-to-a-list-at-once"
      ]
    },
    {
      "cell_type": "markdown",
      "metadata": {
        "id": "vFVPVDV47Nh8"
      },
      "source": [
        "## Make Dummy Data"
      ]
    },
    {
      "cell_type": "code",
      "metadata": {
        "colab": {
          "base_uri": "https://localhost:8080/"
        },
        "id": "hydAE2u2pvCN",
        "outputId": "ca1d32bb-d764-4fb8-de37-f5629ca79efe"
      },
      "source": [
        "%%writefile input.txt\r\n",
        "\r\n",
        "0011:2233:4455 ghwvauguvwi ybvakvi\r\n",
        "klasilvavh; 1122:3344:5566\r\n",
        "haliviv\r\n",
        "4411:7733:6655\r\n",
        "6611:2233:9955\r\n"
      ],
      "execution_count": 1,
      "outputs": [
        {
          "output_type": "stream",
          "text": [
            "Overwriting input.txt\n"
          ],
          "name": "stdout"
        }
      ]
    },
    {
      "cell_type": "markdown",
      "metadata": {
        "id": "bg36MgHC7QSn"
      },
      "source": [
        "## **Code**: Convenience Functions"
      ]
    },
    {
      "cell_type": "code",
      "metadata": {
        "id": "BVI2u23lqAdd"
      },
      "source": [
        "def make_dummy_data(filepath: str):\r\n",
        "    \r\n",
        "    s = \"\"\"\r\n",
        "    0011:2233:4455 ghwvauguvwi ybvakvi\r\n",
        "    klasilvavh; 1122:3344:5566\r\n",
        "    haliviv\r\n",
        "    4411:7733:6655\r\n",
        "    6611:2233:9955\r\n",
        "    \"\"\"\r\n",
        "\r\n",
        "    # Create dummy data file\r\n",
        "    with open(filepath, \"w\") as f:\r\n",
        "        f.write(s)\r\n",
        "\r\n",
        "    print(f\"Created file: {filepath}\")\r\n",
        "\r\n",
        "def read_file(filepath):\r\n",
        "    \"\"\"Reads and returns the content of a file.\"\"\"\r\n",
        "\r\n",
        "    with open(filepath, \"r\") as f:\r\n",
        "        content = f.read() # read in one attemp\r\n",
        "    return content\r\n",
        "\r\n",
        "def format_mac_id(mac_id: str):\r\n",
        "    \"\"\"Returns a formatted mac_id.\r\n",
        "    INPUT FORMAT: \"xxxxxxxxxxxx\"\r\n",
        "    OUTPUT FORMAT: \"xx-xx-xx-xx-xx-xx\"\r\n",
        "    \"\"\"\r\n",
        "    \r\n",
        "    mac_id = list(mac_id)\r\n",
        "    mac_id = ''.join([ f\"-{v}\" if (i % 2 == 0) else v for i, v in enumerate(mac_id)])[1:]\r\n",
        "    return mac_id\r\n",
        "\r\n",
        "def extract_mac_ids(content: str, format=True):\r\n",
        "    \"\"\"Extracts and returns a list of formatted mac_ids after.\r\n",
        "    INPUT FORMAT: \"xxxx:xxxx:xxxx\"\r\n",
        "    OUTPUT FORMAT: \"xx-xx-xx-xx-xx-xx\"\r\n",
        "    \"\"\"\r\n",
        "    \r\n",
        "    import re\r\n",
        "    pattern = r\"(\\d{4}:\\d{4}:\\d{4})\"\r\n",
        "    pat = re.compile(pattern)\r\n",
        "    mac_ids = pat.findall(content) # returns a list of all mac-ids\r\n",
        "    # Replaces the \":\" with \"\" and then formats \r\n",
        "    # each mac-id as: \"xx-xx-xx-xx-xx-xx\"\r\n",
        "    if format:\r\n",
        "        mac_ids = [format_mac_id(mac_id.replace(\":\", \"\")) for mac_id in mac_ids]\r\n",
        "    return mac_ids"
      ],
      "execution_count": 2,
      "outputs": []
    },
    {
      "cell_type": "markdown",
      "metadata": {
        "id": "il8oOVJp7YS3"
      },
      "source": [
        "## Extract and Process the MAC IDs"
      ]
    },
    {
      "cell_type": "code",
      "metadata": {
        "colab": {
          "base_uri": "https://localhost:8080/"
        },
        "id": "HqPQB5GEpny3",
        "outputId": "b40458aa-c0f2-46f8-9724-d6e5d994858a"
      },
      "source": [
        "# import re\r\n",
        "\r\n",
        "filepath = \"input.txt\"\r\n",
        "content = read_file(filepath)\r\n",
        "mac_ids = extract_mac_ids(content, format=True)\r\n",
        "\r\n",
        "mac_ids\r\n",
        "# ['00-11-22-33-44-55',\r\n",
        "#  '11-22-33-44-55-66',\r\n",
        "#  '44-11-77-33-66-55',\r\n",
        "#  '66-11-22-33-99-55']"
      ],
      "execution_count": 3,
      "outputs": [
        {
          "output_type": "execute_result",
          "data": {
            "text/plain": [
              "['00-11-22-33-44-55',\n",
              " '11-22-33-44-55-66',\n",
              " '44-11-77-33-66-55',\n",
              " '66-11-22-33-99-55']"
            ]
          },
          "metadata": {
            "tags": []
          },
          "execution_count": 3
        }
      ]
    },
    {
      "cell_type": "markdown",
      "metadata": {
        "id": "i4kwY6GG7fZo"
      },
      "source": [
        "## Create Python File: `Q_66620236.py`"
      ]
    },
    {
      "cell_type": "code",
      "metadata": {
        "colab": {
          "base_uri": "https://localhost:8080/"
        },
        "id": "XKsgCzFLsCh_",
        "outputId": "32af8981-a110-477a-f3d8-2a1f43531372"
      },
      "source": [
        "%%writefile Q_66620236.py\r\n",
        "import re\r\n",
        "\r\n",
        "# Solution to: Q-66620236 on Stackoverflow\r\n",
        "# filepath = \"input.txt\"\r\n",
        "\r\n",
        "def make_dummy_data(filepath: str):\r\n",
        "    \r\n",
        "    s = \"\"\"\r\n",
        "    0011:2233:4455 ghwvauguvwi ybvakvi\r\n",
        "    klasilvavh; 1122:3344:5566\r\n",
        "    haliviv\r\n",
        "    4411:7733:6655\r\n",
        "    6611:2233:9955\r\n",
        "    \"\"\"\r\n",
        "\r\n",
        "    # Create dummy data file\r\n",
        "    with open(filepath, \"w\") as f:\r\n",
        "        f.write(s)\r\n",
        "\r\n",
        "    print(f\"Created file: {filepath}\")\r\n",
        "\r\n",
        "def read_file(filepath: str):\r\n",
        "    \"\"\"Reads and returns the content of a file.\"\"\"\r\n",
        "\r\n",
        "    with open(filepath, \"r\") as f:\r\n",
        "        content = f.read() # read in one attemp\r\n",
        "    return content\r\n",
        "\r\n",
        "def format_mac_id(mac_id: str):\r\n",
        "    \"\"\"Returns a formatted mac_id.\r\n",
        "    INPUT FORMAT: \"xxxxxxxxxxxx\"\r\n",
        "    OUTPUT FORMAT: \"xx-xx-xx-xx-xx-xx\"\r\n",
        "    \"\"\"\r\n",
        "    \r\n",
        "    mac_id = list(mac_id)\r\n",
        "    mac_id = ''.join([ f\"-{v}\" if (i % 2 == 0) else v for i, v in enumerate(mac_id)])[1:]\r\n",
        "    return mac_id\r\n",
        "\r\n",
        "def extract_mac_ids(content: str, format: bool=True):\r\n",
        "    \"\"\"Extracts and returns a list of formatted mac_ids after.\r\n",
        "    INPUT FORMAT: \"xxxx:xxxx:xxxx\"\r\n",
        "    OUTPUT FORMAT: \"xx-xx-xx-xx-xx-xx\"\r\n",
        "    \"\"\"\r\n",
        "    \r\n",
        "    # import re\r\n",
        "    pattern = r\"(\\d{4}:\\d{4}:\\d{4})\"\r\n",
        "    pat = re.compile(pattern)\r\n",
        "    mac_ids = pat.findall(content) # returns a list of all mac-ids\r\n",
        "    # Replaces the \":\" with \"\" and then formats \r\n",
        "    # each mac-id as: \"xx-xx-xx-xx-xx-xx\"\r\n",
        "    if format:\r\n",
        "        mac_ids = [format_mac_id(mac_id.replace(\":\", \"\")) for mac_id in mac_ids]\r\n",
        "    return mac_ids\r\n",
        "\r\n",
        "\r\n",
        "if __name__ == \"__Main__\":\r\n",
        "\r\n",
        "    filepath = \"input.txt\"\r\n",
        "    use_dummy_data = True\r\n",
        "\r\n",
        "    if use_dummy_data:\r\n",
        "        make_dummy_data(filepath)\r\n",
        "    \r\n",
        "    content = read_file(filepath)\r\n",
        "    mac_ids = extract_mac_ids(content, format=True)\r\n",
        "\r\n",
        "    print(mac_ids)\r\n",
        "\r\n",
        "    ## Output: for Dummy Data\r\n",
        "    # ['00-11-22-33-44-55',\r\n",
        "    #  '11-22-33-44-55-66',\r\n",
        "    #  '44-11-77-33-66-55',\r\n",
        "    #  '66-11-22-33-99-55']"
      ],
      "execution_count": 4,
      "outputs": [
        {
          "output_type": "stream",
          "text": [
            "Overwriting Q_66620236.py\n"
          ],
          "name": "stdout"
        }
      ]
    }
  ]
}