{
  "nbformat": 4,
  "nbformat_minor": 0,
  "metadata": {
    "colab": {
      "name": "Q_59598129.ipynb",
      "provenance": [],
      "toc_visible": true,
      "include_colab_link": true
    },
    "kernelspec": {
      "name": "python3",
      "display_name": "Python 3"
    }
  },
  "cells": [
    {
      "cell_type": "markdown",
      "metadata": {
        "id": "view-in-github",
        "colab_type": "text"
      },
      "source": [
        "<a href=\"https://colab.research.google.com/github/sugatoray/stackoverflow/blob/master/answers/Q_59598129.ipynb\" target=\"_parent\"><img src=\"https://colab.research.google.com/assets/colab-badge.svg\" alt=\"Open In Colab\"/></a>"
      ]
    },
    {
      "cell_type": "markdown",
      "metadata": {
        "id": "xh6Gqr27Df9X",
        "colab_type": "text"
      },
      "source": [
        "# Stackoverflow Question: [59598129](https://stackoverflow.com/questions/59598129/how-to-sort-out-a-text-file-in-python-using-numbers-in-the-text-file/59598245#59598129)\n",
        "\n",
        "+ _How to sort out a text file in python using numbers in the text file?_\n"
      ]
    },
    {
      "cell_type": "markdown",
      "metadata": {
        "id": "rkDcwv4aEwJo",
        "colab_type": "text"
      },
      "source": [
        ">**EDIT**: \n",
        "The OP described later that the requirement is to first order by numbers and then order by the rest of text that follows. The solution now reflects this requirement.  \n",
        "\n",
        "---\n",
        "\n",
        ">I wrote a custom function (`sort_with_digits`) which finds out the numbers and then sorts the lines accordingly using **`pandas`** library. All you have to do is:  \n",
        "\n",
        "```python\n",
        "#read-in data from a text file:\n",
        "with open('input.txt', 'r') as f:\n",
        "    s = f.read()\n",
        "sort_with_digits(s, ascending = True)\n",
        "```\n"
      ]
    },
    {
      "cell_type": "markdown",
      "metadata": {
        "id": "vjNToWYBE4NP",
        "colab_type": "text"
      },
      "source": [
        "# Code with Example Data"
      ]
    },
    {
      "cell_type": "markdown",
      "metadata": {
        "id": "gYxVPnSWDnjp",
        "colab_type": "text"
      },
      "source": [
        "```python\n",
        "s = \"\"\"\n",
        "345 eee\n",
        "12 nt\n",
        "9 test\n",
        "3 s\n",
        "\"\"\"\n",
        "\n",
        "import pandas as pd\n",
        "\n",
        "# Custom Function\n",
        "def sort_with_digits(s, ascending = True):\n",
        "    lines = s.strip().split('\\n')\n",
        "    df = pd.DataFrame({'Lines': lines})\n",
        "    df2 = df.Lines.str.strip().str.split(' ', expand=True).rename(columns={0: 'Numbers', 1: 'Text'})\n",
        "    df['Numbers'] = df2['Numbers'].astype(float)\n",
        "    df['Text'] = df2['Text'].str.strip()\n",
        "    df.sort_values(['Numbers', 'Text'], ascending = ascending, inplace=True)\n",
        "    return df.Lines.tolist()\n",
        "\n",
        "sort_with_digits(s, ascending = True)\n",
        "```\n",
        "**Output**:\n",
        "```\n",
        "['3 s', '9 test', '12 nt', '345 eee']\n",
        "```"
      ]
    },
    {
      "cell_type": "markdown",
      "metadata": {
        "id": "1aXO4uJME4Lc",
        "colab_type": "text"
      },
      "source": [
        "## With Another Dummy Dataset"
      ]
    },
    {
      "cell_type": "markdown",
      "metadata": {
        "id": "wcb_UsmkFHwV",
        "colab_type": "text"
      },
      "source": [
        "1. **Dummy Data: A**\n",
        "\n",
        "```python\n",
        "s = \"\"\"\n",
        "345 eee\n",
        "1200 nt\n",
        "9 test\n",
        "-3 s\n",
        "\"\"\"\n",
        "\n",
        "# Expected Result: ['-3 s', '9 test', '345 eee', '1200 nt']\n",
        "# And the solution produces this as well.\n",
        "```\n",
        "\n",
        "2. **Dummy Data: B**\n",
        "\n",
        "```python\n",
        "s = \"\"\"\n",
        "45 eee\n",
        "12 nt\n",
        "945 test\n",
        "344 s\n",
        "45 gh\n",
        "\"\"\"\n",
        "\n",
        "# Expected Result: ['12 nt', '45 eee', '45 gh', '344 s', '945 test']\n",
        "# And the solution produces this as well.\n",
        "```"
      ]
    },
    {
      "cell_type": "markdown",
      "metadata": {
        "id": "jKEJcxfYD9si",
        "colab_type": "text"
      },
      "source": [
        "# **Test the Code**"
      ]
    },
    {
      "cell_type": "code",
      "metadata": {
        "id": "56nD7v6DDbE0",
        "colab_type": "code",
        "colab": {
          "base_uri": "https://localhost:8080/",
          "height": 34
        },
        "outputId": "9de33f81-88c7-4f80-bc8c-acbf8b861c97"
      },
      "source": [
        "s = \"\"\"\n",
        "45 eee\n",
        "12 nt\n",
        "945 test\n",
        "344 s\n",
        "45 gh\n",
        "\"\"\"\n",
        " \n",
        "import pandas as pd\n",
        " \n",
        "# Custom Function\n",
        "def sort_with_digits(s, ascending = True):\n",
        "    lines = s.strip().split('\\n')\n",
        "    df = pd.DataFrame({'Lines': lines})\n",
        "    df2 = df.Lines.str.strip().str.split(' ', expand=True).rename(columns={0: 'Numbers', 1: 'Text'})\n",
        "    df['Numbers'] = df2['Numbers'].astype(float)\n",
        "    df['Text'] = df2['Text'].str.strip()\n",
        "    df.sort_values(['Numbers', 'Text'], ascending = ascending, inplace=True)\n",
        "    return df.Lines.tolist()\n",
        " \n",
        "sort_with_digits(s, ascending = True)"
      ],
      "execution_count": 1,
      "outputs": [
        {
          "output_type": "execute_result",
          "data": {
            "text/plain": [
              "['12 nt', '45 eee', '45 gh', '344 s', '945 test']"
            ]
          },
          "metadata": {
            "tags": []
          },
          "execution_count": 1
        }
      ]
    },
    {
      "cell_type": "code",
      "metadata": {
        "id": "PChE0NVnEHqm",
        "colab_type": "code",
        "colab": {}
      },
      "source": [
        ""
      ],
      "execution_count": 0,
      "outputs": []
    }
  ]
}